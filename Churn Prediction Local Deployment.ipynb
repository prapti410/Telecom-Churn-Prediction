{
 "cells": [
  {
   "cell_type": "code",
   "execution_count": 3,
   "id": "00a8ed25-45c1-48fd-94f7-a047af64fa72",
   "metadata": {},
   "outputs": [],
   "source": [
    "import gradio as gr\n",
    "import pickle\n",
    "import numpy as np\n",
    "import warnings\n",
    "warnings.filterwarnings('ignore')"
   ]
  },
  {
   "cell_type": "code",
   "execution_count": 4,
   "id": "7d31b028-37ac-46c5-b24b-6e454cd7d4e6",
   "metadata": {},
   "outputs": [
    {
     "name": "stdout",
     "output_type": "stream",
     "text": [
      "Running on local URL:  http://127.0.0.1:7861\n",
      "\n",
      "To create a public link, set `share=True` in `launch()`.\n"
     ]
    },
    {
     "data": {
      "text/html": [
       "<div><iframe src=\"http://127.0.0.1:7861/\" width=\"100%\" height=\"500\" allow=\"autoplay; camera; microphone; clipboard-read; clipboard-write;\" frameborder=\"0\" allowfullscreen></iframe></div>"
      ],
      "text/plain": [
       "<IPython.core.display.HTML object>"
      ]
     },
     "metadata": {},
     "output_type": "display_data"
    },
    {
     "data": {
      "text/plain": []
     },
     "execution_count": 4,
     "metadata": {},
     "output_type": "execute_result"
    }
   ],
   "source": [
    "# Load the trained model (ensure the model is in the same directory or provide the correct path)\n",
    "with open (\"final_model_bagg.pkl\",\"rb\") as file:\n",
    "    model = pickle.load(file)\n",
    "\n",
    "# Function to predict churn\n",
    "def predict_churn(gender, SeniorCitizen, Partner, Dependents, tenure,\n",
    "                  PhoneService, MultipleLines, InternetService,\n",
    "                  OnlineSecurity, OnlineBackup, DeviceProtection,\n",
    "                  TechSupport, StreamingTV, StreamingMovies, Contract,\n",
    "                  PaperlessBilling, PaymentMethod, MonthlyCharges, TotalCharges):\n",
    "    \n",
    "    # Convert inputs to the encoded format\n",
    "    gender = 1 if gender == 'Male' else 0\n",
    "    Partner = 1 if Partner == 'Yes' else 0\n",
    "    Dependents = 1 if Dependents == 'Yes' else 0\n",
    "    PhoneService = 1 if PhoneService == 'Yes' else 0\n",
    "    MultipleLines = {'No': 0, 'No phone service': 1, 'Yes': 2}[MultipleLines]\n",
    "    InternetService = {'No': 0, 'DSL': 1, 'Fiber optic': 2}[InternetService]\n",
    "    OnlineSecurity = {'No': 0, 'No internet service': 1, 'Yes': 2}[OnlineSecurity]\n",
    "    OnlineBackup = {'No': 0, 'No internet service': 1, 'Yes': 2}[OnlineBackup]\n",
    "    DeviceProtection = {'No': 0, 'No internet service': 1, 'Yes': 2}[DeviceProtection]\n",
    "    TechSupport = {'No': 0, 'No internet service': 1, 'Yes': 2}[TechSupport]\n",
    "    StreamingTV = {'No': 0, 'No internet service': 1, 'Yes': 2}[StreamingTV]\n",
    "    StreamingMovies = {'No': 0, 'No internet service': 1, 'Yes': 2}[StreamingMovies]\n",
    "    Contract = {'Month-to-month': 0, 'One year': 1, 'Two year': 2}[Contract]\n",
    "    PaperlessBilling = 1 if PaperlessBilling == 'Yes' else 0\n",
    "\n",
    "    # Create input array\n",
    "    input_data = [[gender, SeniorCitizen, Partner, Dependents, tenure,\n",
    "                   PhoneService, MultipleLines, InternetService,\n",
    "                   OnlineSecurity, OnlineBackup, DeviceProtection,\n",
    "                   TechSupport, StreamingTV, StreamingMovies, Contract,\n",
    "                   PaperlessBilling, PaymentMethod, MonthlyCharges, TotalCharges]]\n",
    "\n",
    "    # Predict churn probability\n",
    "    pred = model.predict_proba(input_data)[:, 1][0]\n",
    "\n",
    "    # Return prediction result\n",
    "    if pred > 0.5:\n",
    "        return f'This customer is more likely to churn: Probability = {round(pred * 100, 2)}%'\n",
    "    else:\n",
    "        return f'This customer is less likely to churn: Probability = {round(pred * 100, 2)}%'\n",
    "\n",
    "# Define Gradio interface\n",
    "iface = gr.Interface(\n",
    "    fn=predict_churn,\n",
    "    inputs=[\n",
    "        gr.Radio(['Male', 'Female'], label='Gender'),\n",
    "        gr.Radio([0, 1], label='Senior Citizen (0=No, 1=Yes)'),\n",
    "        gr.Radio(['Yes', 'No'], label='Has Partner?'),\n",
    "        gr.Radio(['Yes', 'No'], label='Has Dependents?'),\n",
    "        gr.Number(label='Tenure (Months)'),\n",
    "        gr.Radio(['Yes', 'No'], label='Has Phone Service?'),\n",
    "        gr.Radio(['No', 'No phone service', 'Yes'], label='Multiple Lines'),\n",
    "        gr.Radio(['No', 'DSL', 'Fiber optic'], label='Internet Service Type'),\n",
    "        gr.Radio(['No', 'No internet service', 'Yes'], label='Online Security'),\n",
    "        gr.Radio(['No', 'No internet service', 'Yes'], label='Online Backup'),\n",
    "        gr.Radio(['No', 'No internet service', 'Yes'], label='Device Protection'),\n",
    "        gr.Radio(['No', 'No internet service', 'Yes'], label='Tech Support'),\n",
    "        gr.Radio(['No', 'No internet service', 'Yes'], label='Streaming TV'),\n",
    "        gr.Radio(['No', 'No internet service', 'Yes'], label='Streaming Movies'),\n",
    "        gr.Radio(['Month-to-month', 'One year', 'Two year'], label='Contract Type'),\n",
    "        gr.Radio(['Yes', 'No'], label='Uses Paperless Billing?'),\n",
    "        gr.Number(label='Payment Method (Encoded as numeric)'),\n",
    "        gr.Number(label='Monthly Charges'),\n",
    "        gr.Number(label='Total Charges'),\n",
    "    ],\n",
    "    outputs=gr.Textbox(label='Prediction'),\n",
    "    title='Telecom Customer Churn Prediction',\n",
    "    description='This application predicts whether a customer is likely to churn based on their telecom usage and account details.',\n",
    "    allow_flagging='never'\n",
    ")\n",
    "\n",
    "# Run the application\n",
    "iface.launch()"
   ]
  },
  {
   "cell_type": "code",
   "execution_count": null,
   "id": "217fdc3b-40e7-4ab6-b0a8-ebfeb9439276",
   "metadata": {},
   "outputs": [],
   "source": []
  }
 ],
 "metadata": {
  "kernelspec": {
   "display_name": "Python 3 (ipykernel)",
   "language": "python",
   "name": "python3"
  },
  "language_info": {
   "codemirror_mode": {
    "name": "ipython",
    "version": 3
   },
   "file_extension": ".py",
   "mimetype": "text/x-python",
   "name": "python",
   "nbconvert_exporter": "python",
   "pygments_lexer": "ipython3",
   "version": "3.11.7"
  }
 },
 "nbformat": 4,
 "nbformat_minor": 5
}
